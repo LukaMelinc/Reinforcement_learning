{
 "cells": [
  {
   "cell_type": "code",
   "execution_count": null,
   "metadata": {
    "vscode": {
     "languageId": "plaintext"
    }
   },
   "outputs": [],
   "source": [
    "!pip install swig   # bridge between low-level C/C++ code and high leve Python code\n",
    "!pip install gym[box2d] pyglet==1.3.2    # OpenAI gym with Box2D support\n",
    "                                         # pyglet for rendering 2D graphics\n",
    "!pip install pygame                      # handling 2D graphics, user input, sound, game development\n",
    "!pip install -U colabgymrender           # for rendering gym enviroments with Colab\n",
    "!pip install stable-baselines3[extra]    # reinforcement learning algorithms\n",
    "!pip install renderlab                   # for rendering enviroment\n",
    "!pip install pyvirtualdisplay            # simulates displat in headless env (Colab)\n",
    "!apt-get install -y xvfb ffmpeg          # display server for simulating display\n",
    "!pip install PyOpenGL PyOpenGL_accelerate# Accelerating rendering\n",
    "!apt-get install -y xvfb x11-utils       # for display server\n",
    "!pip install pyvirtualdisplay gymnasium\n",
    "\n",
    "from pyvirtualdisplay import Display\n",
    "from IPython.display import HTML\n",
    "from base64 import b64encode\n",
    "import gymnasium as gym\n",
    "from gym.wrappers import RecordVideo\n",
    "from stable_baselines3.ppo.policies import MlpPolicy\n",
    "from stable_baselines3 import DQN\n",
    "from stable_baselines3 import PPO, SAC, TD3\n",
    "from stable_baselines3.common.vec_env import VecFrameStack\n",
    "from stable_baselines3.common.evaluation import evaluate_policy\n",
    "import os\n",
    "import renderlab as rl\n",
    "from stable_baselines3.common.vec_env import DummyVecEnv\n",
    "import time\n"
   ]
  },
  {
   "cell_type": "code",
   "execution_count": null,
   "metadata": {
    "vscode": {
     "languageId": "plaintext"
    }
   },
   "outputs": [],
   "source": [
    "display = Display(visible=False, size=(1400, 900))\n",
    "display.start()\n",
    "\n",
    "enviroment_name = \"LunarLander-v2\"\n",
    "env = gym.make(enviroment_name, render_mode=\"rgb_array\")\n",
    "env = EnvCompatibility(env)\n",
    "env = RecordVideo(env, video_folder='./video', episode_trigger=lambda e:True)\n",
    "\n",
    "def render_video(video_path):\n",
    "  video = open(video_path, 'rb').read()\n",
    "  video_encoded = b64encode(video).decode()\n",
    "  return HTML(f'<video width=400 controls><source src=\"data:video/mp4;base64,{video_encoded}\" type=\"video/mp4\"></video>')\n",
    "\n",
    "\n",
    "\n",
    "episodes = 2\n",
    "for episode in range(1, episodes + 1):\n",
    "    state, info = env.reset()\n",
    "    done = False\n",
    "    score = 0\n",
    "\n",
    "    while not done:\n",
    "      env.render()\n",
    "      action = env.action_space.sample()\n",
    "      n_state, reward, done, info = env.step(action)\n",
    "      score += reward\n",
    "    print('Episode:{} Score:{}'.format(episode, score))\n",
    "env.close()\n",
    "\n",
    "render_video('./video/rl-video-episode-0.mp4')\n",
    "\n"
   ]
  },
  {
   "cell_type": "code",
   "execution_count": null,
   "metadata": {
    "vscode": {
     "languageId": "plaintext"
    }
   },
   "outputs": [],
   "source": [
    "env = gym.make(\"LunarLander-v2\", render_mode=\"rgb_array\")\n",
    "env = DummyVecEnv([lambda: env])\n",
    "model = PPO('MlpPolicy', env, verbose = 1)\n",
    "model.learn(total_timesteps=200000)\n",
    "LL_path = os.path.join('Training', 'Saved Models', 'PPO_LunarLander_Model')\n",
    "model.save(LL_path)\n",
    "model"
   ]
  },
  {
   "cell_type": "code",
   "execution_count": null,
   "metadata": {
    "vscode": {
     "languageId": "plaintext"
    }
   },
   "outputs": [],
   "source": [
    "def render_video(video_path):\n",
    "    video = open(video_path, 'rb').read()\n",
    "    video_encoded = b64encode(video).decode()\n",
    "    return HTML(f'<video width=400 controls><source src=\"data:video/mp4;base64,{video_encoded}\" type=\"video/mp4\"></video>')\n",
    "\n",
    "display = Display(visible=False, size=(1400, 900))\n",
    "display.start()\n",
    "\n",
    "#env = gym.make(\"CarRacing-v2\", render_mode = \"rgb_array\")\n",
    "env = gym.make(\"LunarLander-v2\", render_mode=\"rgb_array\")\n",
    "env = RecordVideo(env, './video', episode_trigger=lambda e: True)\n",
    "\n",
    "n_seconds = 10\n",
    "obs, info = env.reset()\n",
    "done = False\n",
    "start_time = time.time()\n",
    "while not done:\n",
    "  action, _ = model.predict(obs, deterministic=True)\n",
    "  obs, reward, done, info = env.step(action)\n",
    "  env.render()\n",
    "  if time.time() - start_time > n_seconds:\n",
    "    break\n",
    "\n",
    "env.close()\n",
    "\n",
    "render_video('./video/rl-video-episode-0.mp4')\n",
    "\n",
    "\n"
   ]
  }
 ],
 "metadata": {
  "language_info": {
   "name": "python"
  }
 },
 "nbformat": 4,
 "nbformat_minor": 2
}

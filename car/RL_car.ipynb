{
 "cells": [
  {
   "cell_type": "code",
   "execution_count": null,
   "metadata": {
    "vscode": {
     "languageId": "plaintext"
    }
   },
   "outputs": [],
   "source": [
    "!pip install swig\n",
    "#!pip install Box2D-kengz\n",
    "!pip install gym[box2d] pyglet==1.3.2\n",
    "!pip install -U colabgymrender\n",
    "!pip install stable-baselines3[extra]\n",
    "!pip install renderlab\n",
    "!pip install pyglet==1.3.2\n",
    "!pip install pyvirtualdisplay\n",
    "!apt-get install -y xvfb ffmpeg  # Removed python-opengl\n",
    "!pip install PyOpenGL PyOpenGL_accelerate  # Install OpenGL via pip\n",
    "\n",
    "!apt-get install -y xvfb x11-utils\n",
    "!pip install pyvirtualdisplay gymnasium==0.28.1\n",
    "\n",
    "# Import necessary libraries\n",
    "\n",
    "from pyvirtualdisplay import Display\n",
    "from IPython.display import HTML\n",
    "from base64 import b64encode\n",
    "import gymnasium as gym\n",
    "from gym.wrappers import RecordVideo\n",
    "from stable_baselines3.ppo.policies import MlpPolicy\n",
    "from stable_baselines3 import DQN\n",
    "from stable_baselines3 import PPO, SAC, TD3\n",
    "from stable_baselines3.common.vec_env import VecFrameStack\n",
    "from stable_baselines3.common.evaluation import evaluate_policy\n",
    "import os\n",
    "import renderlab as rl\n",
    "from stable_baselines3.common.vec_env import DummyVecEnv\n",
    "import time\n",
    "\n"
   ]
  },
  {
   "cell_type": "code",
   "execution_count": null,
   "metadata": {
    "vscode": {
     "languageId": "plaintext"
    }
   },
   "outputs": [],
   "source": [
    "display = Display(visible=False, size=(1400, 900))\n",
    "display.start()\n",
    "\n",
    "def render_video(video_path):\n",
    "    video = open(video_path, 'rb').read()\n",
    "    video_encoded = b64encode(video).decode()\n",
    "    return HTML(f'<video width=400 controls><source src=\"data:video/mp4;base64,{video_encoded}\" type=\"video/mp4\"></video>')\n",
    "\n",
    "env = gym.make(\"CarRacing-v2\", render_mode=\"rgb_array\")\n",
    "env = RecordVideo(env, './video', episode_trigger=lambda e: True)\n",
    "\n",
    "# Run a few episodes to render the environment\n",
    "episodes = 2\n",
    "for episode in range(1, episodes + 1):\n",
    "    state, info = env.reset()\n",
    "    done = False\n",
    "    score = 0\n",
    "\n",
    "    while not done:\n",
    "        env.render()  # This will now render via the virtual display\n",
    "        action = env.action_space.sample()\n",
    "        n_state, reward, done, info = env.step(action)\n",
    "        score += reward\n",
    "\n",
    "env.close()\n",
    "\n",
    "# Render the video from the first episode\n",
    "render_video('./video/rl-video-episode-0.mp4')\n"
   ]
  },
  {
   "cell_type": "code",
   "execution_count": null,
   "metadata": {
    "vscode": {
     "languageId": "plaintext"
    }
   },
   "outputs": [],
   "source": [
    "env = gym.make(\"CarRacing-v2\")\n",
    "env = DummyVecEnv([lambda: env])\n",
    "log_path = ('Training', 'Logs')\n",
    "model = SAC('CnnPolicy', env, verbose=1)\n",
    "model.learn(total_timesteps=30000)\n",
    "\n",
    "PPO_path = os.path.join('Training', 'Saved Models', 'PPO_model_cnnPolicy')\n",
    "model.save(PPO_path)\n"
   ]
  },
  {
   "cell_type": "code",
   "execution_count": null,
   "metadata": {
    "vscode": {
     "languageId": "plaintext"
    }
   },
   "outputs": [],
   "source": [
    "#env = gym.make(\"CarRacing-v2\")\n",
    "model = PPO.load('/content/PPO_2m_Driving_model_2.7z', env=env)"
   ]
  },
  {
   "cell_type": "code",
   "execution_count": null,
   "metadata": {
    "vscode": {
     "languageId": "plaintext"
    }
   },
   "outputs": [],
   "source": [
    "# evaluate_policy(model, env, n_eval_episodes=10, render=True)\n",
    "# Function to render video\n",
    "def render_video(video_path):\n",
    "    video = open(video_path, 'rb').read()\n",
    "    video_encoded = b64encode(video).decode()\n",
    "    return HTML(f'<video width=400 controls><source src=\"data:video/mp4;base64,{video_encoded}\" type=\"video/mp4\"></video>')\n",
    "\n",
    "# Start virtual display\n",
    "display = Display(visible=False, size=(1400, 900))\n",
    "display.start()\n",
    "\n",
    "\n",
    "# Record the video of the evaluation\n",
    "env = gym.make(\"CarRacing-v2\", render_mode=\"rgb_array\")\n",
    "env = RecordVideo(env, './video', episode_trigger=lambda e: True)\n",
    "\n",
    "# Evaluate the policy for 10 episodes and render the environment for N seconds (let's say N=10 seconds)\n",
    "n_eval_episodes = 1\n",
    "n_seconds = 40\n",
    "\n",
    "# Run the evaluation with rendering for the first N seconds\n",
    "obs, info = env.reset()\n",
    "done = False\n",
    "start_time = time.time()\n",
    "\n",
    "for _ in range(n_eval_episodes):\n",
    "    while not done:\n",
    "        action, _ = model.predict(obs, deterministic=True)\n",
    "        obs, reward, done, info = env.step(action)\n",
    "\n",
    "        # Render and stop after N seconds\n",
    "        env.render()\n",
    "        if time.time() - start_time > n_seconds:\n",
    "            break\n",
    "\n",
    "    # Reset environment for the next episode\n",
    "    done = False\n",
    "    obs, info = env.reset()\n",
    "\n",
    "# Close the environment\n",
    "env.close()\n",
    "\n",
    "# Render the video from the first evaluation episode\n",
    "render_video('./video/rl-video-episode-0.mp4')\n"
   ]
  }
 ],
 "metadata": {
  "language_info": {
   "name": "python"
  }
 },
 "nbformat": 4,
 "nbformat_minor": 2
}
